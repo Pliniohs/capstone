{
    "cells": [
        {
            "cell_type": "markdown",
            "metadata": {},
            "source": "# importing toronto neighborhood data"
        },
        {
            "cell_type": "markdown",
            "metadata": {},
            "source": "## Scarping from wikipedia"
        },
        {
            "cell_type": "code",
            "execution_count": 5,
            "metadata": {},
            "outputs": [],
            "source": "import pandas as pd\nimport numpy as np\nfrom bs4 import BeautifulSoup\nimport requests "
        },
        {
            "cell_type": "code",
            "execution_count": 7,
            "metadata": {},
            "outputs": [],
            "source": "url = 'https://en.wikipedia.org/wiki/List_of_postal_codes_of_Canada:_M'\nresponse = requests.get(url)\nsoup = BeautifulSoup(response.text, 'html.parser')\n"
        },
        {
            "cell_type": "code",
            "execution_count": 8,
            "metadata": {
                "scrolled": true
            },
            "outputs": [],
            "source": "table = soup.find('table',{'class':\"wikitable sortable\"}).tbody\n\nrows = table.find_all('tr')\ncolumns = [v.text.replace('\\n','') for v in rows[0].find_all('th')]\ndf = pd.DataFrame(columns = columns)\n"
        },
        {
            "cell_type": "code",
            "execution_count": 9,
            "metadata": {},
            "outputs": [],
            "source": "for i in range(1,len(rows)):\n    tds = rows[i].find_all('td')\n    \n    if len(tds) == 4:\n        values = [tds[0].text,tds[1].find('a').get('title'),'',tds[2].text,tds[3].text.replace('\\n','')]\n    else:\n        values = [td.text.replace('\\n','') for td in tds]\n       \n    df = df.append(pd.Series(values, index = columns), ignore_index = True)\n    "
        },
        {
            "cell_type": "code",
            "execution_count": 10,
            "metadata": {},
            "outputs": [
                {
                    "data": {
                        "text/html": "<div>\n<style scoped>\n    .dataframe tbody tr th:only-of-type {\n        vertical-align: middle;\n    }\n\n    .dataframe tbody tr th {\n        vertical-align: top;\n    }\n\n    .dataframe thead th {\n        text-align: right;\n    }\n</style>\n<table border=\"1\" class=\"dataframe\">\n  <thead>\n    <tr style=\"text-align: right;\">\n      <th></th>\n      <th>Postcode</th>\n      <th>Borough</th>\n      <th>Neighbourhood</th>\n    </tr>\n  </thead>\n  <tbody>\n    <tr>\n      <th>0</th>\n      <td>M1A</td>\n      <td>Not assigned</td>\n      <td>Not assigned</td>\n    </tr>\n    <tr>\n      <th>1</th>\n      <td>M2A</td>\n      <td>Not assigned</td>\n      <td>Not assigned</td>\n    </tr>\n    <tr>\n      <th>2</th>\n      <td>M3A</td>\n      <td>North York</td>\n      <td>Parkwoods</td>\n    </tr>\n    <tr>\n      <th>3</th>\n      <td>M4A</td>\n      <td>North York</td>\n      <td>Victoria Village</td>\n    </tr>\n    <tr>\n      <th>4</th>\n      <td>M5A</td>\n      <td>Downtown Toronto</td>\n      <td>Harbourfront</td>\n    </tr>\n  </tbody>\n</table>\n</div>",
                        "text/plain": "  Postcode           Borough     Neighbourhood\n0      M1A      Not assigned      Not assigned\n1      M2A      Not assigned      Not assigned\n2      M3A        North York         Parkwoods\n3      M4A        North York  Victoria Village\n4      M5A  Downtown Toronto      Harbourfront"
                    },
                    "execution_count": 10,
                    "metadata": {},
                    "output_type": "execute_result"
                }
            ],
            "source": "df.head()\n"
        },
        {
            "cell_type": "code",
            "execution_count": 11,
            "metadata": {},
            "outputs": [],
            "source": "Dataframe = df\nDataframe = Dataframe[Dataframe.Borough != 'Not assigned']"
        },
        {
            "cell_type": "code",
            "execution_count": 12,
            "metadata": {},
            "outputs": [
                {
                    "data": {
                        "text/html": "<div>\n<style scoped>\n    .dataframe tbody tr th:only-of-type {\n        vertical-align: middle;\n    }\n\n    .dataframe tbody tr th {\n        vertical-align: top;\n    }\n\n    .dataframe thead th {\n        text-align: right;\n    }\n</style>\n<table border=\"1\" class=\"dataframe\">\n  <thead>\n    <tr style=\"text-align: right;\">\n      <th></th>\n      <th>Postcode</th>\n      <th>Borough</th>\n      <th>Neighbourhood</th>\n    </tr>\n  </thead>\n  <tbody>\n    <tr>\n      <th>2</th>\n      <td>M3A</td>\n      <td>North York</td>\n      <td>Parkwoods</td>\n    </tr>\n    <tr>\n      <th>3</th>\n      <td>M4A</td>\n      <td>North York</td>\n      <td>Victoria Village</td>\n    </tr>\n    <tr>\n      <th>4</th>\n      <td>M5A</td>\n      <td>Downtown Toronto</td>\n      <td>Harbourfront</td>\n    </tr>\n    <tr>\n      <th>5</th>\n      <td>M6A</td>\n      <td>North York</td>\n      <td>Lawrence Heights</td>\n    </tr>\n    <tr>\n      <th>6</th>\n      <td>M6A</td>\n      <td>North York</td>\n      <td>Lawrence Manor</td>\n    </tr>\n  </tbody>\n</table>\n</div>",
                        "text/plain": "  Postcode           Borough     Neighbourhood\n2      M3A        North York         Parkwoods\n3      M4A        North York  Victoria Village\n4      M5A  Downtown Toronto      Harbourfront\n5      M6A        North York  Lawrence Heights\n6      M6A        North York    Lawrence Manor"
                    },
                    "execution_count": 12,
                    "metadata": {},
                    "output_type": "execute_result"
                }
            ],
            "source": "Dataframe.head()"
        },
        {
            "cell_type": "code",
            "execution_count": 13,
            "metadata": {},
            "outputs": [
                {
                    "data": {
                        "text/plain": "(210, 3)"
                    },
                    "execution_count": 13,
                    "metadata": {},
                    "output_type": "execute_result"
                }
            ],
            "source": "Dataframe.shape"
        },
        {
            "cell_type": "code",
            "execution_count": 14,
            "metadata": {},
            "outputs": [],
            "source": "Dataframe = Dataframe.reset_index(drop = True)"
        },
        {
            "cell_type": "code",
            "execution_count": 15,
            "metadata": {},
            "outputs": [
                {
                    "data": {
                        "text/html": "<div>\n<style scoped>\n    .dataframe tbody tr th:only-of-type {\n        vertical-align: middle;\n    }\n\n    .dataframe tbody tr th {\n        vertical-align: top;\n    }\n\n    .dataframe thead th {\n        text-align: right;\n    }\n</style>\n<table border=\"1\" class=\"dataframe\">\n  <thead>\n    <tr style=\"text-align: right;\">\n      <th></th>\n      <th>Postcode</th>\n      <th>Borough</th>\n      <th>Neighbourhood</th>\n    </tr>\n  </thead>\n  <tbody>\n    <tr>\n      <th>0</th>\n      <td>M3A</td>\n      <td>North York</td>\n      <td>Parkwoods</td>\n    </tr>\n    <tr>\n      <th>1</th>\n      <td>M4A</td>\n      <td>North York</td>\n      <td>Victoria Village</td>\n    </tr>\n    <tr>\n      <th>2</th>\n      <td>M5A</td>\n      <td>Downtown Toronto</td>\n      <td>Harbourfront</td>\n    </tr>\n    <tr>\n      <th>3</th>\n      <td>M6A</td>\n      <td>North York</td>\n      <td>Lawrence Heights</td>\n    </tr>\n    <tr>\n      <th>4</th>\n      <td>M6A</td>\n      <td>North York</td>\n      <td>Lawrence Manor</td>\n    </tr>\n  </tbody>\n</table>\n</div>",
                        "text/plain": "  Postcode           Borough     Neighbourhood\n0      M3A        North York         Parkwoods\n1      M4A        North York  Victoria Village\n2      M5A  Downtown Toronto      Harbourfront\n3      M6A        North York  Lawrence Heights\n4      M6A        North York    Lawrence Manor"
                    },
                    "execution_count": 15,
                    "metadata": {},
                    "output_type": "execute_result"
                }
            ],
            "source": "Dataframe.head()"
        },
        {
            "cell_type": "code",
            "execution_count": 16,
            "metadata": {},
            "outputs": [
                {
                    "data": {
                        "text/html": "<div>\n<style scoped>\n    .dataframe tbody tr th:only-of-type {\n        vertical-align: middle;\n    }\n\n    .dataframe tbody tr th {\n        vertical-align: top;\n    }\n\n    .dataframe thead th {\n        text-align: right;\n    }\n</style>\n<table border=\"1\" class=\"dataframe\">\n  <thead>\n    <tr style=\"text-align: right;\">\n      <th></th>\n      <th>Postcode</th>\n      <th>Borough</th>\n      <th>Neighbourhood</th>\n    </tr>\n  </thead>\n  <tbody>\n    <tr>\n      <th>6</th>\n      <td>M9A</td>\n      <td>Queen's Park</td>\n      <td>Not assigned</td>\n    </tr>\n  </tbody>\n</table>\n</div>",
                        "text/plain": "  Postcode       Borough Neighbourhood\n6      M9A  Queen's Park  Not assigned"
                    },
                    "execution_count": 16,
                    "metadata": {},
                    "output_type": "execute_result"
                }
            ],
            "source": "Dataframe[Dataframe['Neighbourhood']==\"Not assigned\"]\n"
        },
        {
            "cell_type": "code",
            "execution_count": 17,
            "metadata": {},
            "outputs": [
                {
                    "data": {
                        "text/html": "<div>\n<style scoped>\n    .dataframe tbody tr th:only-of-type {\n        vertical-align: middle;\n    }\n\n    .dataframe tbody tr th {\n        vertical-align: top;\n    }\n\n    .dataframe thead th {\n        text-align: right;\n    }\n</style>\n<table border=\"1\" class=\"dataframe\">\n  <thead>\n    <tr style=\"text-align: right;\">\n      <th></th>\n      <th>Postcode</th>\n      <th>Borough</th>\n      <th>Neighbourhood</th>\n    </tr>\n  </thead>\n  <tbody>\n    <tr>\n      <th>25</th>\n      <td>M4C</td>\n      <td>East York</td>\n      <td>Woodbine Heights</td>\n    </tr>\n    <tr>\n      <th>26</th>\n      <td>M5C</td>\n      <td>Downtown Toronto</td>\n      <td>St. James Town</td>\n    </tr>\n    <tr>\n      <th>27</th>\n      <td>M6C</td>\n      <td>York</td>\n      <td>Humewood-Cedarvale</td>\n    </tr>\n    <tr>\n      <th>28</th>\n      <td>M9C</td>\n      <td>Etobicoke</td>\n      <td>Bloordale Gardens</td>\n    </tr>\n    <tr>\n      <th>29</th>\n      <td>M9C</td>\n      <td>Etobicoke</td>\n      <td>Eringate</td>\n    </tr>\n  </tbody>\n</table>\n</div>",
                        "text/plain": "   Postcode           Borough       Neighbourhood\n25      M4C         East York    Woodbine Heights\n26      M5C  Downtown Toronto      St. James Town\n27      M6C              York  Humewood-Cedarvale\n28      M9C         Etobicoke   Bloordale Gardens\n29      M9C         Etobicoke            Eringate"
                    },
                    "execution_count": 17,
                    "metadata": {},
                    "output_type": "execute_result"
                }
            ],
            "source": "Dataframe[25:30]"
        },
        {
            "cell_type": "code",
            "execution_count": 18,
            "metadata": {},
            "outputs": [
                {
                    "data": {
                        "text/plain": "\"Queen's Park\""
                    },
                    "execution_count": 18,
                    "metadata": {},
                    "output_type": "execute_result"
                }
            ],
            "source": "Dataframe.loc[6]['Borough']"
        },
        {
            "cell_type": "code",
            "execution_count": 19,
            "metadata": {},
            "outputs": [],
            "source": "Dataframe.loc[6]['Neighbourhood'] = Dataframe.loc[6]['Borough']"
        },
        {
            "cell_type": "code",
            "execution_count": 20,
            "metadata": {},
            "outputs": [
                {
                    "data": {
                        "text/plain": "Postcode                  M9A\nBorough          Queen's Park\nNeighbourhood    Queen's Park\nName: 6, dtype: object"
                    },
                    "execution_count": 20,
                    "metadata": {},
                    "output_type": "execute_result"
                }
            ],
            "source": "Dataframe.loc[6]"
        },
        {
            "cell_type": "code",
            "execution_count": 21,
            "metadata": {},
            "outputs": [
                {
                    "data": {
                        "text/html": "<div>\n<style scoped>\n    .dataframe tbody tr th:only-of-type {\n        vertical-align: middle;\n    }\n\n    .dataframe tbody tr th {\n        vertical-align: top;\n    }\n\n    .dataframe thead th {\n        text-align: right;\n    }\n</style>\n<table border=\"1\" class=\"dataframe\">\n  <thead>\n    <tr style=\"text-align: right;\">\n      <th></th>\n      <th>Postcode</th>\n      <th>Borough</th>\n      <th>Neighbourhood</th>\n    </tr>\n  </thead>\n  <tbody>\n    <tr>\n      <th>5</th>\n      <td>M7A</td>\n      <td>Downtown Toronto</td>\n      <td>Queen's Park</td>\n    </tr>\n    <tr>\n      <th>6</th>\n      <td>M9A</td>\n      <td>Queen's Park</td>\n      <td>Queen's Park</td>\n    </tr>\n    <tr>\n      <th>7</th>\n      <td>M1B</td>\n      <td>Scarborough</td>\n      <td>Rouge</td>\n    </tr>\n    <tr>\n      <th>8</th>\n      <td>M1B</td>\n      <td>Scarborough</td>\n      <td>Malvern</td>\n    </tr>\n    <tr>\n      <th>9</th>\n      <td>M3B</td>\n      <td>North York</td>\n      <td>Don Mills North</td>\n    </tr>\n    <tr>\n      <th>10</th>\n      <td>M4B</td>\n      <td>East York</td>\n      <td>Woodbine Gardens</td>\n    </tr>\n    <tr>\n      <th>11</th>\n      <td>M4B</td>\n      <td>East York</td>\n      <td>Parkview Hill</td>\n    </tr>\n    <tr>\n      <th>12</th>\n      <td>M5B</td>\n      <td>Downtown Toronto</td>\n      <td>Ryerson</td>\n    </tr>\n    <tr>\n      <th>13</th>\n      <td>M5B</td>\n      <td>Downtown Toronto</td>\n      <td>Garden District</td>\n    </tr>\n    <tr>\n      <th>14</th>\n      <td>M6B</td>\n      <td>North York</td>\n      <td>Glencairn</td>\n    </tr>\n  </tbody>\n</table>\n</div>",
                        "text/plain": "   Postcode           Borough     Neighbourhood\n5       M7A  Downtown Toronto      Queen's Park\n6       M9A      Queen's Park      Queen's Park\n7       M1B       Scarborough             Rouge\n8       M1B       Scarborough           Malvern\n9       M3B        North York   Don Mills North\n10      M4B         East York  Woodbine Gardens\n11      M4B         East York     Parkview Hill\n12      M5B  Downtown Toronto           Ryerson\n13      M5B  Downtown Toronto   Garden District\n14      M6B        North York         Glencairn"
                    },
                    "execution_count": 21,
                    "metadata": {},
                    "output_type": "execute_result"
                }
            ],
            "source": "Dataframe[5:15]"
        },
        {
            "cell_type": "code",
            "execution_count": 22,
            "metadata": {},
            "outputs": [],
            "source": "group = Dataframe.groupby(['Postcode','Borough']).agg(', '.join)"
        },
        {
            "cell_type": "code",
            "execution_count": 23,
            "metadata": {},
            "outputs": [
                {
                    "data": {
                        "text/html": "<div>\n<style scoped>\n    .dataframe tbody tr th:only-of-type {\n        vertical-align: middle;\n    }\n\n    .dataframe tbody tr th {\n        vertical-align: top;\n    }\n\n    .dataframe thead th {\n        text-align: right;\n    }\n</style>\n<table border=\"1\" class=\"dataframe\">\n  <thead>\n    <tr style=\"text-align: right;\">\n      <th></th>\n      <th></th>\n      <th>Neighbourhood</th>\n    </tr>\n    <tr>\n      <th>Postcode</th>\n      <th>Borough</th>\n      <th></th>\n    </tr>\n  </thead>\n  <tbody>\n    <tr>\n      <th>M1B</th>\n      <th>Scarborough</th>\n      <td>Rouge, Malvern</td>\n    </tr>\n    <tr>\n      <th>M1C</th>\n      <th>Scarborough</th>\n      <td>Highland Creek, Rouge Hill, Port Union</td>\n    </tr>\n    <tr>\n      <th>M1E</th>\n      <th>Scarborough</th>\n      <td>Guildwood, Morningside, West Hill</td>\n    </tr>\n    <tr>\n      <th>M1G</th>\n      <th>Scarborough</th>\n      <td>Woburn</td>\n    </tr>\n    <tr>\n      <th>M1H</th>\n      <th>Scarborough</th>\n      <td>Cedarbrae</td>\n    </tr>\n    <tr>\n      <th>M1J</th>\n      <th>Scarborough</th>\n      <td>Scarborough Village</td>\n    </tr>\n    <tr>\n      <th>M1K</th>\n      <th>Scarborough</th>\n      <td>East Birchmount Park, Ionview, Kennedy Park</td>\n    </tr>\n    <tr>\n      <th>M1L</th>\n      <th>Scarborough</th>\n      <td>Clairlea, Golden Mile, Oakridge</td>\n    </tr>\n    <tr>\n      <th>M1M</th>\n      <th>Scarborough</th>\n      <td>Cliffcrest, Cliffside, Scarborough Village West</td>\n    </tr>\n    <tr>\n      <th>M1N</th>\n      <th>Scarborough</th>\n      <td>Birch Cliff, Cliffside West</td>\n    </tr>\n    <tr>\n      <th>M1P</th>\n      <th>Scarborough</th>\n      <td>Dorset Park, Scarborough Town Centre, Wexford ...</td>\n    </tr>\n    <tr>\n      <th>M1R</th>\n      <th>Scarborough</th>\n      <td>Maryvale, Wexford</td>\n    </tr>\n    <tr>\n      <th>M1S</th>\n      <th>Scarborough</th>\n      <td>Agincourt</td>\n    </tr>\n    <tr>\n      <th>M1T</th>\n      <th>Scarborough</th>\n      <td>Clarks Corners, Sullivan, Tam O'Shanter</td>\n    </tr>\n    <tr>\n      <th>M1V</th>\n      <th>Scarborough</th>\n      <td>Agincourt North, L'Amoreaux East, Milliken, St...</td>\n    </tr>\n    <tr>\n      <th>M1W</th>\n      <th>Scarborough</th>\n      <td>L'Amoreaux West</td>\n    </tr>\n    <tr>\n      <th>M1X</th>\n      <th>Scarborough</th>\n      <td>Upper Rouge</td>\n    </tr>\n    <tr>\n      <th>M2H</th>\n      <th>North York</th>\n      <td>Hillcrest Village</td>\n    </tr>\n    <tr>\n      <th>M2J</th>\n      <th>North York</th>\n      <td>Fairview, Henry Farm, Oriole</td>\n    </tr>\n    <tr>\n      <th>M2K</th>\n      <th>North York</th>\n      <td>Bayview Village</td>\n    </tr>\n    <tr>\n      <th>M2L</th>\n      <th>North York</th>\n      <td>Silver Hills, York Mills</td>\n    </tr>\n    <tr>\n      <th>M2M</th>\n      <th>North York</th>\n      <td>Newtonbrook, Willowdale</td>\n    </tr>\n    <tr>\n      <th>M2N</th>\n      <th>North York</th>\n      <td>Willowdale South</td>\n    </tr>\n    <tr>\n      <th>M2P</th>\n      <th>North York</th>\n      <td>York Mills West</td>\n    </tr>\n    <tr>\n      <th>M2R</th>\n      <th>North York</th>\n      <td>Willowdale West</td>\n    </tr>\n    <tr>\n      <th>M3A</th>\n      <th>North York</th>\n      <td>Parkwoods</td>\n    </tr>\n    <tr>\n      <th>M3B</th>\n      <th>North York</th>\n      <td>Don Mills North</td>\n    </tr>\n    <tr>\n      <th>M3C</th>\n      <th>North York</th>\n      <td>Flemingdon Park, Don Mills South</td>\n    </tr>\n    <tr>\n      <th>M3H</th>\n      <th>North York</th>\n      <td>Bathurst Manor, Downsview North, Wilson Heights</td>\n    </tr>\n    <tr>\n      <th>M3J</th>\n      <th>North York</th>\n      <td>Northwood Park, York University</td>\n    </tr>\n    <tr>\n      <th>...</th>\n      <th>...</th>\n      <td>...</td>\n    </tr>\n    <tr>\n      <th>M6C</th>\n      <th>York</th>\n      <td>Humewood-Cedarvale</td>\n    </tr>\n    <tr>\n      <th>M6E</th>\n      <th>York</th>\n      <td>Caledonia-Fairbanks</td>\n    </tr>\n    <tr>\n      <th>M6G</th>\n      <th>Downtown Toronto</th>\n      <td>Christie</td>\n    </tr>\n    <tr>\n      <th>M6H</th>\n      <th>West Toronto</th>\n      <td>Dovercourt Village, Dufferin</td>\n    </tr>\n    <tr>\n      <th>M6J</th>\n      <th>West Toronto</th>\n      <td>Little Portugal, Trinity</td>\n    </tr>\n    <tr>\n      <th>M6K</th>\n      <th>West Toronto</th>\n      <td>Brockton, Exhibition Place, Parkdale Village</td>\n    </tr>\n    <tr>\n      <th>M6L</th>\n      <th>North York</th>\n      <td>Downsview, North Park, Upwood Park</td>\n    </tr>\n    <tr>\n      <th>M6M</th>\n      <th>York</th>\n      <td>Del Ray, Keelesdale, Mount Dennis, Silverthorn</td>\n    </tr>\n    <tr>\n      <th>M6N</th>\n      <th>York</th>\n      <td>The Junction North, Runnymede</td>\n    </tr>\n    <tr>\n      <th>M6P</th>\n      <th>West Toronto</th>\n      <td>High Park, The Junction South</td>\n    </tr>\n    <tr>\n      <th>M6R</th>\n      <th>West Toronto</th>\n      <td>Parkdale, Roncesvalles</td>\n    </tr>\n    <tr>\n      <th>M6S</th>\n      <th>West Toronto</th>\n      <td>Runnymede, Swansea</td>\n    </tr>\n    <tr>\n      <th>M7A</th>\n      <th>Downtown Toronto</th>\n      <td>Queen's Park</td>\n    </tr>\n    <tr>\n      <th>M7R</th>\n      <th>Mississauga</th>\n      <td>Canada Post Gateway Processing Centre</td>\n    </tr>\n    <tr>\n      <th>M7Y</th>\n      <th>East Toronto</th>\n      <td>Business Reply Mail Processing Centre 969 Eastern</td>\n    </tr>\n    <tr>\n      <th>M8V</th>\n      <th>Etobicoke</th>\n      <td>Humber Bay Shores, Mimico South, New Toronto</td>\n    </tr>\n    <tr>\n      <th>M8W</th>\n      <th>Etobicoke</th>\n      <td>Alderwood, Long Branch</td>\n    </tr>\n    <tr>\n      <th>M8X</th>\n      <th>Etobicoke</th>\n      <td>The Kingsway, Montgomery Road, Old Mill North</td>\n    </tr>\n    <tr>\n      <th>M8Y</th>\n      <th>Etobicoke</th>\n      <td>Humber Bay, King's Mill Park, Kingsway Park So...</td>\n    </tr>\n    <tr>\n      <th>M8Z</th>\n      <th>Etobicoke</th>\n      <td>Kingsway Park South West, Mimico NW, The Queen...</td>\n    </tr>\n    <tr>\n      <th>M9A</th>\n      <th>Queen's Park</th>\n      <td>Queen's Park</td>\n    </tr>\n    <tr>\n      <th>M9B</th>\n      <th>Etobicoke</th>\n      <td>Cloverdale, Islington, Martin Grove, Princess ...</td>\n    </tr>\n    <tr>\n      <th>M9C</th>\n      <th>Etobicoke</th>\n      <td>Bloordale Gardens, Eringate, Markland Wood, Ol...</td>\n    </tr>\n    <tr>\n      <th>M9L</th>\n      <th>North York</th>\n      <td>Humber Summit</td>\n    </tr>\n    <tr>\n      <th>M9M</th>\n      <th>North York</th>\n      <td>Emery, Humberlea</td>\n    </tr>\n    <tr>\n      <th>M9N</th>\n      <th>York</th>\n      <td>Weston</td>\n    </tr>\n    <tr>\n      <th>M9P</th>\n      <th>Etobicoke</th>\n      <td>Westmount</td>\n    </tr>\n    <tr>\n      <th>M9R</th>\n      <th>Etobicoke</th>\n      <td>Kingsview Village, Martin Grove Gardens, Richv...</td>\n    </tr>\n    <tr>\n      <th>M9V</th>\n      <th>Etobicoke</th>\n      <td>Albion Gardens, Beaumond Heights, Humbergate, ...</td>\n    </tr>\n    <tr>\n      <th>M9W</th>\n      <th>Etobicoke</th>\n      <td>Northwest</td>\n    </tr>\n  </tbody>\n</table>\n<p>103 rows \u00d7 1 columns</p>\n</div>",
                        "text/plain": "                                                               Neighbourhood\nPostcode Borough                                                            \nM1B      Scarborough                                          Rouge, Malvern\nM1C      Scarborough                  Highland Creek, Rouge Hill, Port Union\nM1E      Scarborough                       Guildwood, Morningside, West Hill\nM1G      Scarborough                                                  Woburn\nM1H      Scarborough                                               Cedarbrae\nM1J      Scarborough                                     Scarborough Village\nM1K      Scarborough             East Birchmount Park, Ionview, Kennedy Park\nM1L      Scarborough                         Clairlea, Golden Mile, Oakridge\nM1M      Scarborough         Cliffcrest, Cliffside, Scarborough Village West\nM1N      Scarborough                             Birch Cliff, Cliffside West\nM1P      Scarborough       Dorset Park, Scarborough Town Centre, Wexford ...\nM1R      Scarborough                                       Maryvale, Wexford\nM1S      Scarborough                                               Agincourt\nM1T      Scarborough                 Clarks Corners, Sullivan, Tam O'Shanter\nM1V      Scarborough       Agincourt North, L'Amoreaux East, Milliken, St...\nM1W      Scarborough                                         L'Amoreaux West\nM1X      Scarborough                                             Upper Rouge\nM2H      North York                                        Hillcrest Village\nM2J      North York                             Fairview, Henry Farm, Oriole\nM2K      North York                                          Bayview Village\nM2L      North York                                 Silver Hills, York Mills\nM2M      North York                                  Newtonbrook, Willowdale\nM2N      North York                                         Willowdale South\nM2P      North York                                          York Mills West\nM2R      North York                                          Willowdale West\nM3A      North York                                                Parkwoods\nM3B      North York                                          Don Mills North\nM3C      North York                         Flemingdon Park, Don Mills South\nM3H      North York          Bathurst Manor, Downsview North, Wilson Heights\nM3J      North York                          Northwood Park, York University\n...                                                                      ...\nM6C      York                                             Humewood-Cedarvale\nM6E      York                                            Caledonia-Fairbanks\nM6G      Downtown Toronto                                           Christie\nM6H      West Toronto                           Dovercourt Village, Dufferin\nM6J      West Toronto                               Little Portugal, Trinity\nM6K      West Toronto           Brockton, Exhibition Place, Parkdale Village\nM6L      North York                       Downsview, North Park, Upwood Park\nM6M      York                 Del Ray, Keelesdale, Mount Dennis, Silverthorn\nM6N      York                                  The Junction North, Runnymede\nM6P      West Toronto                          High Park, The Junction South\nM6R      West Toronto                                 Parkdale, Roncesvalles\nM6S      West Toronto                                     Runnymede, Swansea\nM7A      Downtown Toronto                                       Queen's Park\nM7R      Mississauga                   Canada Post Gateway Processing Centre\nM7Y      East Toronto      Business Reply Mail Processing Centre 969 Eastern\nM8V      Etobicoke              Humber Bay Shores, Mimico South, New Toronto\nM8W      Etobicoke                                    Alderwood, Long Branch\nM8X      Etobicoke             The Kingsway, Montgomery Road, Old Mill North\nM8Y      Etobicoke         Humber Bay, King's Mill Park, Kingsway Park So...\nM8Z      Etobicoke         Kingsway Park South West, Mimico NW, The Queen...\nM9A      Queen's Park                                           Queen's Park\nM9B      Etobicoke         Cloverdale, Islington, Martin Grove, Princess ...\nM9C      Etobicoke         Bloordale Gardens, Eringate, Markland Wood, Ol...\nM9L      North York                                            Humber Summit\nM9M      North York                                         Emery, Humberlea\nM9N      York                                                         Weston\nM9P      Etobicoke                                                 Westmount\nM9R      Etobicoke         Kingsview Village, Martin Grove Gardens, Richv...\nM9V      Etobicoke         Albion Gardens, Beaumond Heights, Humbergate, ...\nM9W      Etobicoke                                                 Northwest\n\n[103 rows x 1 columns]"
                    },
                    "execution_count": 23,
                    "metadata": {},
                    "output_type": "execute_result"
                }
            ],
            "source": "group"
        },
        {
            "cell_type": "code",
            "execution_count": 24,
            "metadata": {},
            "outputs": [
                {
                    "name": "stdout",
                    "output_type": "stream",
                    "text": "Solving environment: done\n\n## Package Plan ##\n\n  environment location: /opt/conda/envs/Python36\n\n  added / updated specs: \n    - geocoder\n\n\nThe following packages will be downloaded:\n\n    package                    |            build\n    ---------------------------|-----------------\n    ratelim-0.1.6              |             py_2           6 KB  conda-forge\n    openssl-1.1.1d             |       h516909a_0         2.1 MB  conda-forge\n    ca-certificates-2019.11.28 |       hecc5488_0         145 KB  conda-forge\n    certifi-2019.11.28         |           py36_0         149 KB  conda-forge\n    geocoder-1.38.1            |             py_1          53 KB  conda-forge\n    ------------------------------------------------------------\n                                           Total:         2.4 MB\n\nThe following NEW packages will be INSTALLED:\n\n    geocoder:        1.38.1-py_1       conda-forge\n    ratelim:         0.1.6-py_2        conda-forge\n\nThe following packages will be UPDATED:\n\n    ca-certificates: 2019.11.27-0                  --> 2019.11.28-hecc5488_0 conda-forge\n    certifi:         2019.11.28-py36_0             --> 2019.11.28-py36_0     conda-forge\n\nThe following packages will be DOWNGRADED:\n\n    openssl:         1.1.1d-h7b6447c_3             --> 1.1.1d-h516909a_0     conda-forge\n\n\nDownloading and Extracting Packages\nratelim-0.1.6        | 6 KB      | ##################################### | 100% \nopenssl-1.1.1d       | 2.1 MB    | ##################################### | 100% \nca-certificates-2019 | 145 KB    | ##################################### | 100% \ncertifi-2019.11.28   | 149 KB    | ##################################### | 100% \ngeocoder-1.38.1      | 53 KB     | ##################################### | 100% \nPreparing transaction: done\nVerifying transaction: done\nExecuting transaction: done\n"
                }
            ],
            "source": "!conda install -c conda-forge geocoder \n"
        },
        {
            "cell_type": "markdown",
            "metadata": {},
            "source": "# Step 2 - Get latitude and longitude for coordinates\n"
        },
        {
            "cell_type": "markdown",
            "metadata": {},
            "source": "Was not possible to have coordinate from google"
        },
        {
            "cell_type": "code",
            "execution_count": 27,
            "metadata": {
                "scrolled": true
            },
            "outputs": [
                {
                    "ename": "NameError",
                    "evalue": "name 'postal_code' is not defined",
                    "output_type": "error",
                    "traceback": [
                        "\u001b[0;31m---------------------------------------------------------------------------\u001b[0m",
                        "\u001b[0;31mNameError\u001b[0m                                 Traceback (most recent call last)",
                        "\u001b[0;32m<ipython-input-27-2d5854313a90>\u001b[0m in \u001b[0;36m<module>\u001b[0;34m\u001b[0m\n\u001b[1;32m      6\u001b[0m \u001b[0;31m# loop until you get the coordinates\u001b[0m\u001b[0;34m\u001b[0m\u001b[0;34m\u001b[0m\u001b[0;34m\u001b[0m\u001b[0m\n\u001b[1;32m      7\u001b[0m \u001b[0;32mwhile\u001b[0m\u001b[0;34m(\u001b[0m\u001b[0mlat_lng_coords\u001b[0m \u001b[0;32mis\u001b[0m \u001b[0;32mNone\u001b[0m\u001b[0;34m)\u001b[0m\u001b[0;34m:\u001b[0m\u001b[0;34m\u001b[0m\u001b[0;34m\u001b[0m\u001b[0m\n\u001b[0;32m----> 8\u001b[0;31m   \u001b[0mg\u001b[0m \u001b[0;34m=\u001b[0m \u001b[0mgeocoder\u001b[0m\u001b[0;34m.\u001b[0m\u001b[0mgoogle\u001b[0m\u001b[0;34m(\u001b[0m\u001b[0;34m'{}, Toronto, Ontario'\u001b[0m\u001b[0;34m.\u001b[0m\u001b[0mformat\u001b[0m\u001b[0;34m(\u001b[0m\u001b[0mpostal_code\u001b[0m\u001b[0;34m)\u001b[0m\u001b[0;34m)\u001b[0m\u001b[0;34m\u001b[0m\u001b[0;34m\u001b[0m\u001b[0m\n\u001b[0m\u001b[1;32m      9\u001b[0m   \u001b[0mlat_lng_coords\u001b[0m \u001b[0;34m=\u001b[0m \u001b[0mg\u001b[0m\u001b[0;34m.\u001b[0m\u001b[0mlatlng\u001b[0m\u001b[0;34m\u001b[0m\u001b[0;34m\u001b[0m\u001b[0m\n\u001b[1;32m     10\u001b[0m \u001b[0;34m\u001b[0m\u001b[0m\n",
                        "\u001b[0;31mNameError\u001b[0m: name 'postal_code' is not defined"
                    ]
                }
            ],
            "source": "\"\"\"import geocoder \n\n# initialize your variable to None\nlat_lng_coords = None\n\n# loop until you get the coordinates\nwhile(lat_lng_coords is None):\n  g = geocoder.google('{}, Toronto, Ontario'.format(postal_code))\n  lat_lng_coords = g.latlng\n\nlatitude = lat_lng_coords[0]\nlongitude = lat_lng_coords[1]\"\"\""
        },
        {
            "cell_type": "code",
            "execution_count": 28,
            "metadata": {},
            "outputs": [
                {
                    "name": "stdout",
                    "output_type": "stream",
                    "text": "Solving environment: done\n\n## Package Plan ##\n\n  environment location: /opt/conda/envs/Python36\n\n  added / updated specs: \n    - geopy\n\n\nThe following packages will be downloaded:\n\n    package                    |            build\n    ---------------------------|-----------------\n    geopy-1.20.0               |             py_0          57 KB  conda-forge\n    geographiclib-1.50         |             py_0          34 KB  conda-forge\n    ------------------------------------------------------------\n                                           Total:          91 KB\n\nThe following NEW packages will be INSTALLED:\n\n    geographiclib: 1.50-py_0   conda-forge\n    geopy:         1.20.0-py_0 conda-forge\n\n\nDownloading and Extracting Packages\ngeopy-1.20.0         | 57 KB     | ##################################### | 100% \ngeographiclib-1.50   | 34 KB     | ##################################### | 100% \nPreparing transaction: done\nVerifying transaction: done\nExecuting transaction: done\nSolving environment: done\n\n## Package Plan ##\n\n  environment location: /opt/conda/envs/Python36\n\n  added / updated specs: \n    - folium\n\n\nThe following packages will be downloaded:\n\n    package                    |            build\n    ---------------------------|-----------------\n    vincent-0.4.4              |             py_1          28 KB  conda-forge\n    folium-0.10.1              |             py_0          59 KB  conda-forge\n    branca-0.3.1               |             py_0          25 KB  conda-forge\n    ------------------------------------------------------------\n                                           Total:         112 KB\n\nThe following NEW packages will be INSTALLED:\n\n    branca:  0.3.1-py_0  conda-forge\n    folium:  0.10.1-py_0 conda-forge\n    vincent: 0.4.4-py_1  conda-forge\n\n\nDownloading and Extracting Packages\nvincent-0.4.4        | 28 KB     | ##################################### | 100% \nfolium-0.10.1        | 59 KB     | ##################################### | 100% \nbranca-0.3.1         | 25 KB     | ##################################### | 100% \nPreparing transaction: done\nVerifying transaction: done\nExecuting transaction: done\nLibraries imported.\n"
                }
            ],
            "source": "pd.set_option('display.max_columns', None)\npd.set_option('display.max_rows', None)\n\nimport json \n\n#!conda install -c conda-forge geopy --yes \nfrom geopy.geocoders import Nominatim \nimport requests\nfrom pandas.io.json import json_normalize \nimport matplotlib.cm as cm\nimport matplotlib.colors as colors\nfrom sklearn.cluster import KMeans\n#!conda install -c conda-forge folium --yes \nimport folium\n\nprint('Libraries imported.')"
        },
        {
            "cell_type": "code",
            "execution_count": 31,
            "metadata": {},
            "outputs": [
                {
                    "data": {
                        "text/html": "<div>\n<style scoped>\n    .dataframe tbody tr th:only-of-type {\n        vertical-align: middle;\n    }\n\n    .dataframe tbody tr th {\n        vertical-align: top;\n    }\n\n    .dataframe thead th {\n        text-align: right;\n    }\n</style>\n<table border=\"1\" class=\"dataframe\">\n  <thead>\n    <tr style=\"text-align: right;\">\n      <th></th>\n      <th>Postcode</th>\n      <th>Borough</th>\n      <th>Neighbourhood</th>\n    </tr>\n  </thead>\n  <tbody>\n    <tr>\n      <th>0</th>\n      <td>M3A</td>\n      <td>North York</td>\n      <td>Parkwoods</td>\n    </tr>\n    <tr>\n      <th>1</th>\n      <td>M4A</td>\n      <td>North York</td>\n      <td>Victoria Village</td>\n    </tr>\n    <tr>\n      <th>2</th>\n      <td>M5A</td>\n      <td>Downtown Toronto</td>\n      <td>Harbourfront</td>\n    </tr>\n    <tr>\n      <th>3</th>\n      <td>M6A</td>\n      <td>North York</td>\n      <td>Lawrence Heights</td>\n    </tr>\n    <tr>\n      <th>4</th>\n      <td>M6A</td>\n      <td>North York</td>\n      <td>Lawrence Manor</td>\n    </tr>\n  </tbody>\n</table>\n</div>",
                        "text/plain": "  Postcode           Borough     Neighbourhood\n0      M3A        North York         Parkwoods\n1      M4A        North York  Victoria Village\n2      M5A  Downtown Toronto      Harbourfront\n3      M6A        North York  Lawrence Heights\n4      M6A        North York    Lawrence Manor"
                    },
                    "execution_count": 31,
                    "metadata": {},
                    "output_type": "execute_result"
                }
            ],
            "source": "Dataframe.head()"
        },
        {
            "cell_type": "code",
            "execution_count": 30,
            "metadata": {},
            "outputs": [
                {
                    "ename": "SyntaxError",
                    "evalue": "invalid syntax (<ipython-input-30-f67be321677d>, line 2)",
                    "output_type": "error",
                    "traceback": [
                        "\u001b[0;36m  File \u001b[0;32m\"<ipython-input-30-f67be321677d>\"\u001b[0;36m, line \u001b[0;32m2\u001b[0m\n\u001b[0;31m    check =\u001b[0m\n\u001b[0m            ^\u001b[0m\n\u001b[0;31mSyntaxError\u001b[0m\u001b[0;31m:\u001b[0m invalid syntax\n"
                    ]
                }
            ],
            "source": " "
        },
        {
            "cell_type": "code",
            "execution_count": 32,
            "metadata": {},
            "outputs": [],
            "source": "#locator = Nominatim(user_agent='myGeocoder')\n#location = locator.geocode(\u201cChamp de Mars, Paris, France\u201d)"
        },
        {
            "cell_type": "code",
            "execution_count": 33,
            "metadata": {},
            "outputs": [
                {
                    "ename": "SyntaxError",
                    "evalue": "invalid character in identifier (<ipython-input-33-6e660ea6270b>, line 1)",
                    "output_type": "error",
                    "traceback": [
                        "\u001b[0;36m  File \u001b[0;32m\"<ipython-input-33-6e660ea6270b>\"\u001b[0;36m, line \u001b[0;32m1\u001b[0m\n\u001b[0;31m    print(\u201cLatitude = {}, Longitude = {}\u201d.format(location.latitude, location.longitude)\u001b[0m\n\u001b[0m                  ^\u001b[0m\n\u001b[0;31mSyntaxError\u001b[0m\u001b[0;31m:\u001b[0m invalid character in identifier\n"
                    ]
                }
            ],
            "source": "#print(\u201cLatitude = {}, Longitude = {}\u201d.format(location.latitude, location.longitude)"
        },
        {
            "cell_type": "code",
            "execution_count": null,
            "metadata": {},
            "outputs": [],
            "source": "#from geopy.extra.rate_limiter import RateLimiter"
        },
        {
            "cell_type": "code",
            "execution_count": null,
            "metadata": {},
            "outputs": [],
            "source": "#Dataframe[['Postcode','Borough']].head()"
        },
        {
            "cell_type": "code",
            "execution_count": null,
            "metadata": {},
            "outputs": [],
            "source": "#geocode = RateLimiter(locator.geocode, min_delay_seconds=1)\n\n\n\n#Dataframe['address'] = Dataframe['Neighbourhood'] + ', ' + Dataframe['Borough']   + ', ' +    Dataframe['Postcode'] \n"
        },
        {
            "cell_type": "code",
            "execution_count": null,
            "metadata": {},
            "outputs": [],
            "source": "#Dataframe.head()"
        },
        {
            "cell_type": "code",
            "execution_count": 121,
            "metadata": {},
            "outputs": [
                {
                    "ename": "SyntaxError",
                    "evalue": "EOF while scanning triple-quoted string literal (<ipython-input-121-2e352805a80e>, line 16)",
                    "output_type": "error",
                    "traceback": [
                        "\u001b[0;36m  File \u001b[0;32m\"<ipython-input-121-2e352805a80e>\"\u001b[0;36m, line \u001b[0;32m16\u001b[0m\n\u001b[0;31m    \u001b[0m\n\u001b[0m    ^\u001b[0m\n\u001b[0;31mSyntaxError\u001b[0m\u001b[0;31m:\u001b[0m EOF while scanning triple-quoted string literal\n"
                    ]
                }
            ],
            "source": "\"\"\"\nfor index, row in Dataframe.iterrows():\n    \n    lat_lng_coords = None\n    while(lat_lng_coords is None):\n        g = geocoder.google(row['address'])\n        lat_lng_coords = g.latlng\n    latitude = lat_lng_coords[0]\n    longitude = lat_lng_coords[1]\n    Dataframe[row]['latitude'] = latitude\n    Dataframe[row]['longitude'] = longitude\n\"\"'"
        },
        {
            "cell_type": "code",
            "execution_count": 37,
            "metadata": {},
            "outputs": [],
            "source": "import types \nimport pandas as pd \nfrom botocore.client import Config \nimport ibm_boto3\ndef __iter__(self): return 0 \n\n"
        },
        {
            "cell_type": "code",
            "execution_count": 39,
            "metadata": {},
            "outputs": [],
            "source": "df_data_0 = pd.read_csv('https://cocl.us/Geospatial_data/Geospatial_Coordinates.csv')"
        },
        {
            "cell_type": "code",
            "execution_count": 41,
            "metadata": {},
            "outputs": [],
            "source": "df_data_0.to_csv('geodata')"
        },
        {
            "cell_type": "code",
            "execution_count": 42,
            "metadata": {},
            "outputs": [],
            "source": "df_data_0.rename(columns={'Postal Code': 'Postcode'}, inplace=True)"
        },
        {
            "cell_type": "code",
            "execution_count": 44,
            "metadata": {},
            "outputs": [
                {
                    "data": {
                        "text/html": "<div>\n<style scoped>\n    .dataframe tbody tr th:only-of-type {\n        vertical-align: middle;\n    }\n\n    .dataframe tbody tr th {\n        vertical-align: top;\n    }\n\n    .dataframe thead th {\n        text-align: right;\n    }\n</style>\n<table border=\"1\" class=\"dataframe\">\n  <thead>\n    <tr style=\"text-align: right;\">\n      <th></th>\n      <th>Postcode</th>\n      <th>Latitude</th>\n      <th>Longitude</th>\n    </tr>\n  </thead>\n  <tbody>\n    <tr>\n      <th>0</th>\n      <td>M1B</td>\n      <td>43.806686</td>\n      <td>-79.194353</td>\n    </tr>\n    <tr>\n      <th>1</th>\n      <td>M1C</td>\n      <td>43.784535</td>\n      <td>-79.160497</td>\n    </tr>\n    <tr>\n      <th>2</th>\n      <td>M1E</td>\n      <td>43.763573</td>\n      <td>-79.188711</td>\n    </tr>\n    <tr>\n      <th>3</th>\n      <td>M1G</td>\n      <td>43.770992</td>\n      <td>-79.216917</td>\n    </tr>\n    <tr>\n      <th>4</th>\n      <td>M1H</td>\n      <td>43.773136</td>\n      <td>-79.239476</td>\n    </tr>\n  </tbody>\n</table>\n</div>",
                        "text/plain": "  Postcode   Latitude  Longitude\n0      M1B  43.806686 -79.194353\n1      M1C  43.784535 -79.160497\n2      M1E  43.763573 -79.188711\n3      M1G  43.770992 -79.216917\n4      M1H  43.773136 -79.239476"
                    },
                    "execution_count": 44,
                    "metadata": {},
                    "output_type": "execute_result"
                }
            ],
            "source": "df_data_0.head()"
        },
        {
            "cell_type": "code",
            "execution_count": 45,
            "metadata": {},
            "outputs": [],
            "source": "merged =pd.merge(Dataframe, df_data_0, on=['Postcode'])"
        },
        {
            "cell_type": "code",
            "execution_count": 48,
            "metadata": {},
            "outputs": [
                {
                    "data": {
                        "text/html": "<div>\n<style scoped>\n    .dataframe tbody tr th:only-of-type {\n        vertical-align: middle;\n    }\n\n    .dataframe tbody tr th {\n        vertical-align: top;\n    }\n\n    .dataframe thead th {\n        text-align: right;\n    }\n</style>\n<table border=\"1\" class=\"dataframe\">\n  <thead>\n    <tr style=\"text-align: right;\">\n      <th></th>\n      <th>Postcode</th>\n      <th>Borough</th>\n      <th>Neighbourhood</th>\n      <th>Latitude</th>\n      <th>Longitude</th>\n    </tr>\n  </thead>\n  <tbody>\n    <tr>\n      <th>0</th>\n      <td>M3A</td>\n      <td>North York</td>\n      <td>Parkwoods</td>\n      <td>43.753259</td>\n      <td>-79.329656</td>\n    </tr>\n    <tr>\n      <th>1</th>\n      <td>M4A</td>\n      <td>North York</td>\n      <td>Victoria Village</td>\n      <td>43.725882</td>\n      <td>-79.315572</td>\n    </tr>\n    <tr>\n      <th>2</th>\n      <td>M5A</td>\n      <td>Downtown Toronto</td>\n      <td>Harbourfront</td>\n      <td>43.654260</td>\n      <td>-79.360636</td>\n    </tr>\n    <tr>\n      <th>3</th>\n      <td>M6A</td>\n      <td>North York</td>\n      <td>Lawrence Heights</td>\n      <td>43.718518</td>\n      <td>-79.464763</td>\n    </tr>\n    <tr>\n      <th>4</th>\n      <td>M6A</td>\n      <td>North York</td>\n      <td>Lawrence Manor</td>\n      <td>43.718518</td>\n      <td>-79.464763</td>\n    </tr>\n  </tbody>\n</table>\n</div>",
                        "text/plain": "  Postcode           Borough     Neighbourhood   Latitude  Longitude\n0      M3A        North York         Parkwoods  43.753259 -79.329656\n1      M4A        North York  Victoria Village  43.725882 -79.315572\n2      M5A  Downtown Toronto      Harbourfront  43.654260 -79.360636\n3      M6A        North York  Lawrence Heights  43.718518 -79.464763\n4      M6A        North York    Lawrence Manor  43.718518 -79.464763"
                    },
                    "execution_count": 48,
                    "metadata": {},
                    "output_type": "execute_result"
                }
            ],
            "source": "merged.head()"
        },
        {
            "cell_type": "code",
            "execution_count": 49,
            "metadata": {},
            "outputs": [
                {
                    "name": "stdout",
                    "output_type": "stream",
                    "text": "The geograpical coordinate of Toronto are 43.653963, -79.387207.\n"
                }
            ],
            "source": "address = 'Toronto, Canada'\n\ngeolocator = Nominatim(user_agent=\"ny_explorer\")\nlocation = geolocator.geocode(address)\nlatitude = location.latitude\nlongitude = location.longitude\nprint('The geograpical coordinate of Toronto are {}, {}.'.format(latitude, longitude))"
        },
        {
            "cell_type": "code",
            "execution_count": null,
            "metadata": {},
            "outputs": [],
            "source": "#!pip install git+https://github.com/psychemedia/ipython_magic_folium.git"
        },
        {
            "cell_type": "code",
            "execution_count": null,
            "metadata": {},
            "outputs": [],
            "source": "#%load_ext folium_magic\n"
        },
        {
            "cell_type": "code",
            "execution_count": 50,
            "metadata": {},
            "outputs": [],
            "source": "import folium  \nfrom IPython.display import HTML, display\n"
        },
        {
            "cell_type": "code",
            "execution_count": 51,
            "metadata": {},
            "outputs": [
                {
                    "ename": "AttributeError",
                    "evalue": "'Map' object has no attribute '_build_map'",
                    "output_type": "error",
                    "traceback": [
                        "\u001b[0;31m---------------------------------------------------------------------------\u001b[0m",
                        "\u001b[0;31mAttributeError\u001b[0m                            Traceback (most recent call last)",
                        "\u001b[0;32m<ipython-input-51-0c8ab7cb3cc9>\u001b[0m in \u001b[0;36m<module>\u001b[0;34m\u001b[0m\n\u001b[1;32m     32\u001b[0m     \u001b[0mfill_opacity\u001b[0m\u001b[0;34m=\u001b[0m\u001b[0;36m0.7\u001b[0m\u001b[0;34m,\u001b[0m\u001b[0;34m\u001b[0m\u001b[0;34m\u001b[0m\u001b[0m\n\u001b[1;32m     33\u001b[0m     parse_html=False).add_to(map_toronto)   \n\u001b[0;32m---> 34\u001b[0;31m \u001b[0mmap_toronto\u001b[0m\u001b[0;34m.\u001b[0m\u001b[0m_build_map\u001b[0m\u001b[0;34m(\u001b[0m\u001b[0;34m)\u001b[0m\u001b[0;34m\u001b[0m\u001b[0;34m\u001b[0m\u001b[0m\n\u001b[0m\u001b[1;32m     35\u001b[0m \u001b[0mmapWidth\u001b[0m\u001b[0;34m,\u001b[0m \u001b[0mmapHeight\u001b[0m \u001b[0;34m=\u001b[0m \u001b[0;34m(\u001b[0m\u001b[0;36m400\u001b[0m\u001b[0;34m,\u001b[0m\u001b[0;36m500\u001b[0m\u001b[0;34m)\u001b[0m\u001b[0;34m\u001b[0m\u001b[0;34m\u001b[0m\u001b[0m\n\u001b[1;32m     36\u001b[0m \u001b[0msrcdoc\u001b[0m \u001b[0;34m=\u001b[0m \u001b[0mmap_toronto\u001b[0m\u001b[0;34m.\u001b[0m\u001b[0mHTML\u001b[0m\u001b[0;34m.\u001b[0m\u001b[0mreplace\u001b[0m\u001b[0;34m(\u001b[0m\u001b[0;34m'\"'\u001b[0m\u001b[0;34m,\u001b[0m \u001b[0;34m'&quot;'\u001b[0m\u001b[0;34m)\u001b[0m\u001b[0;34m\u001b[0m\u001b[0;34m\u001b[0m\u001b[0m\n",
                        "\u001b[0;31mAttributeError\u001b[0m: 'Map' object has no attribute '_build_map'"
                    ]
                }
            ],
            "source": "\n\"\"\"\nmap_toronto = folium.Map(location=[latitude, longitude], zoom_start=10)\n\nfor lat, lng, borough, neighborhood in zip(merged['Latitude'], merged['Longitude'], merged['Borough'], merged['Neighbourhood']):\n    label = '{}, {}'.format(neighborhood, borough)\n    label = folium.Popup(label, parse_html=True)\n    folium.CircleMarker(\n    [lat, lng],\n    radius=5,\n    popup=label,\n    color='blue',\n    fill=True,\n    fill_color='#3186cc',\n    fill_opacity=0.7,\n    parse_html=False).add_to(map_toronto)   \nmap_toronto._build_map()  \n\"\"\"\n\nmap_toronto = folium.Map(location=[latitude, longitude], zoom_start=10)\n\nfor lat, lng, borough, neighborhood in zip(merged['Latitude'], merged['Longitude'], merged['Borough'], merged['Neighbourhood']):\n    label = '{}, {}'.format(neighborhood, borough)\n    label = folium.Popup(label, parse_html=True)\n    folium.CircleMarker(\n    [lat, lng],\n    radius=5,\n    popup=label,\n    color='blue',\n    fill=True,\n    fill_color='#3186cc',\n    fill_opacity=0.7,\n    parse_html=False).add_to(map_toronto)   \nmap_toronto._build_map()\nmapWidth, mapHeight = (400,500)\nsrcdoc = map_toronto.HTML.replace('\"', '&quot;')\nembed = HTML('<iframe srcdoc=\"{}\" '\n             'style=\"width: {}px; height: {}px; display:block; width: 50%; margin: 0 auto; '\n             'border: none\"></iframe>'.format(srcdoc, width, height))\nembed\n#map_toronto\n"
        },
        {
            "cell_type": "code",
            "execution_count": null,
            "metadata": {},
            "outputs": [],
            "source": ""
        },
        {
            "cell_type": "code",
            "execution_count": 169,
            "metadata": {},
            "outputs": [
                {
                    "data": {
                        "text/html": "<div>\n<style scoped>\n    .dataframe tbody tr th:only-of-type {\n        vertical-align: middle;\n    }\n\n    .dataframe tbody tr th {\n        vertical-align: top;\n    }\n\n    .dataframe thead th {\n        text-align: right;\n    }\n</style>\n<table border=\"1\" class=\"dataframe\">\n  <thead>\n    <tr style=\"text-align: right;\">\n      <th></th>\n      <th>Postcode</th>\n      <th>Borough</th>\n      <th>Neighbourhood</th>\n      <th>address</th>\n      <th>Latitude</th>\n      <th>Longitude</th>\n    </tr>\n  </thead>\n  <tbody>\n    <tr>\n      <th>0</th>\n      <td>M1B</td>\n      <td>Scarborough</td>\n      <td>Rouge</td>\n      <td>Rouge, Scarborough, M1B</td>\n      <td>43.806686</td>\n      <td>-79.194353</td>\n    </tr>\n    <tr>\n      <th>1</th>\n      <td>M1B</td>\n      <td>Scarborough</td>\n      <td>Malvern</td>\n      <td>Malvern, Scarborough, M1B</td>\n      <td>43.806686</td>\n      <td>-79.194353</td>\n    </tr>\n    <tr>\n      <th>2</th>\n      <td>M1C</td>\n      <td>Scarborough</td>\n      <td>Highland Creek</td>\n      <td>Highland Creek, Scarborough, M1C</td>\n      <td>43.784535</td>\n      <td>-79.160497</td>\n    </tr>\n    <tr>\n      <th>3</th>\n      <td>M1C</td>\n      <td>Scarborough</td>\n      <td>Rouge Hill</td>\n      <td>Rouge Hill, Scarborough, M1C</td>\n      <td>43.784535</td>\n      <td>-79.160497</td>\n    </tr>\n    <tr>\n      <th>4</th>\n      <td>M1C</td>\n      <td>Scarborough</td>\n      <td>Port Union</td>\n      <td>Port Union, Scarborough, M1C</td>\n      <td>43.784535</td>\n      <td>-79.160497</td>\n    </tr>\n  </tbody>\n</table>\n</div>",
                        "text/plain": "  Postcode      Borough   Neighbourhood                           address  \\\n0      M1B  Scarborough           Rouge           Rouge, Scarborough, M1B   \n1      M1B  Scarborough         Malvern         Malvern, Scarborough, M1B   \n2      M1C  Scarborough  Highland Creek  Highland Creek, Scarborough, M1C   \n3      M1C  Scarborough      Rouge Hill      Rouge Hill, Scarborough, M1C   \n4      M1C  Scarborough      Port Union      Port Union, Scarborough, M1C   \n\n    Latitude  Longitude  \n0  43.806686 -79.194353  \n1  43.806686 -79.194353  \n2  43.784535 -79.160497  \n3  43.784535 -79.160497  \n4  43.784535 -79.160497  "
                    },
                    "execution_count": 169,
                    "metadata": {},
                    "output_type": "execute_result"
                }
            ],
            "source": "toronto_data = merged[merged['Borough'] == 'Scarborough'].reset_index(drop=True)\ntoronto_data.head()"
        },
        {
            "cell_type": "code",
            "execution_count": 170,
            "metadata": {},
            "outputs": [
                {
                    "name": "stdout",
                    "output_type": "stream",
                    "text": "The geograpical coordinate of Toronto are 43.653963, -79.387207.\n"
                }
            ],
            "source": "address = 'Toronto, Canada'\n\ngeolocator = Nominatim(user_agent=\"ny_explorer\")\nlocation = geolocator.geocode(address)\nlatitude = location.latitude\nlongitude = location.longitude\nprint('The geograpical coordinate of Toronto are {}, {}.'.format(latitude, longitude))"
        },
        {
            "cell_type": "code",
            "execution_count": 52,
            "metadata": {},
            "outputs": [
                {
                    "ename": "NameError",
                    "evalue": "name 'toronto_data' is not defined",
                    "output_type": "error",
                    "traceback": [
                        "\u001b[0;31m---------------------------------------------------------------------------\u001b[0m",
                        "\u001b[0;31mNameError\u001b[0m                                 Traceback (most recent call last)",
                        "\u001b[0;32m<ipython-input-52-8762c6d631af>\u001b[0m in \u001b[0;36m<module>\u001b[0;34m\u001b[0m\n\u001b[1;32m      1\u001b[0m \u001b[0mmap_toronto\u001b[0m \u001b[0;34m=\u001b[0m \u001b[0mfolium\u001b[0m\u001b[0;34m.\u001b[0m\u001b[0mMap\u001b[0m\u001b[0;34m(\u001b[0m\u001b[0mlocation\u001b[0m\u001b[0;34m=\u001b[0m\u001b[0;34m[\u001b[0m\u001b[0mlatitude\u001b[0m\u001b[0;34m,\u001b[0m \u001b[0mlongitude\u001b[0m\u001b[0;34m]\u001b[0m\u001b[0;34m,\u001b[0m \u001b[0mzoom_start\u001b[0m\u001b[0;34m=\u001b[0m\u001b[0;36m11\u001b[0m\u001b[0;34m)\u001b[0m\u001b[0;34m\u001b[0m\u001b[0;34m\u001b[0m\u001b[0m\n\u001b[1;32m      2\u001b[0m \u001b[0;34m\u001b[0m\u001b[0m\n\u001b[0;32m----> 3\u001b[0;31m \u001b[0;32mfor\u001b[0m \u001b[0mlat\u001b[0m\u001b[0;34m,\u001b[0m \u001b[0mlng\u001b[0m\u001b[0;34m,\u001b[0m \u001b[0mlabel\u001b[0m \u001b[0;32min\u001b[0m \u001b[0mzip\u001b[0m\u001b[0;34m(\u001b[0m\u001b[0mtoronto_data\u001b[0m\u001b[0;34m[\u001b[0m\u001b[0;34m'Latitude'\u001b[0m\u001b[0;34m]\u001b[0m\u001b[0;34m,\u001b[0m \u001b[0mtoronto_data\u001b[0m\u001b[0;34m[\u001b[0m\u001b[0;34m'Longitude'\u001b[0m\u001b[0;34m]\u001b[0m\u001b[0;34m,\u001b[0m \u001b[0mtoronto_data\u001b[0m\u001b[0;34m[\u001b[0m\u001b[0;34m'Neighbourhood'\u001b[0m\u001b[0;34m]\u001b[0m\u001b[0;34m)\u001b[0m\u001b[0;34m:\u001b[0m\u001b[0;34m\u001b[0m\u001b[0;34m\u001b[0m\u001b[0m\n\u001b[0m\u001b[1;32m      4\u001b[0m     \u001b[0mlabel\u001b[0m \u001b[0;34m=\u001b[0m \u001b[0mfolium\u001b[0m\u001b[0;34m.\u001b[0m\u001b[0mPopup\u001b[0m\u001b[0;34m(\u001b[0m\u001b[0mlabel\u001b[0m\u001b[0;34m,\u001b[0m \u001b[0mparse_html\u001b[0m\u001b[0;34m=\u001b[0m\u001b[0;32mTrue\u001b[0m\u001b[0;34m)\u001b[0m\u001b[0;34m\u001b[0m\u001b[0;34m\u001b[0m\u001b[0m\n\u001b[1;32m      5\u001b[0m     folium.CircleMarker(\n",
                        "\u001b[0;31mNameError\u001b[0m: name 'toronto_data' is not defined"
                    ]
                }
            ],
            "source": "map_toronto = folium.Map(location=[latitude, longitude], zoom_start=11)\n\nfor lat, lng, label in zip(toronto_data['Latitude'], toronto_data['Longitude'], toronto_data['Neighbourhood']):\n    label = folium.Popup(label, parse_html=True)\n    folium.CircleMarker(\n        [lat, lng],\n        radius=5,\n        color='blue',\n        fill=True,\n        fill_color='#3186cc',\n        fill_opacity=0.7,\n        parse_html=False).add_to(map_toronto)  \n    \ndisplay(map_toronto)"
        },
        {
            "cell_type": "code",
            "execution_count": null,
            "metadata": {},
            "outputs": [],
            "source": ""
        }
    ],
    "metadata": {
        "kernelspec": {
            "display_name": "Python 3.6",
            "language": "python",
            "name": "python3"
        },
        "language_info": {
            "codemirror_mode": {
                "name": "ipython",
                "version": 3
            },
            "file_extension": ".py",
            "mimetype": "text/x-python",
            "name": "python",
            "nbconvert_exporter": "python",
            "pygments_lexer": "ipython3",
            "version": "3.6.8"
        }
    },
    "nbformat": 4,
    "nbformat_minor": 2
}